{
  "nbformat": 4,
  "nbformat_minor": 0,
  "metadata": {
    "colab": {
      "name": "Text_Classification_FCNN.ipynb",
      "provenance": [],
      "collapsed_sections": []
    },
    "kernelspec": {
      "name": "python3",
      "display_name": "Python 3"
    },
    "language_info": {
      "name": "python"
    }
  },
  "cells": [
    {
      "cell_type": "code",
      "execution_count": null,
      "metadata": {
        "id": "A3_SgtxOppQ4"
      },
      "outputs": [],
      "source": [
        "from collections import Counter\n",
        "\n",
        "from pyparsing import WordStart\n",
        "import numpy as np\n",
        "import matplotlib.pyplot as plt\n",
        "import pandas as pd\n",
        "import string\n",
        "import nltk\n",
        "nltk.download('stopwords')\n",
        "from nltk.corpus import stopwords\n",
        "import requests\n",
        "from io import StringIO\n",
        "import math\n",
        "\n",
        "\n",
        "class PreprocessData:\n",
        "    def __init__(self,path,lang='english'): \n",
        "        self.dataset=pd.read_csv(path, sep=\",\")\n",
        "        self.stopwords=stopwords.words(lang)\n",
        "        self.preprocess()\n",
        "    \n",
        "    @staticmethod\n",
        "    def remove_punctuation(text):\n",
        "        '''a function for removing punctuation'''\n",
        "        # replacing the punctuations with no space, \n",
        "        # which in effect deletes the punctuation marks \n",
        "        translator = str.maketrans('', '', string.punctuation)\n",
        "        # return the text stripped of punctuation marks\n",
        "        return text.translate(translator)\n",
        "\n",
        "    #A function to remove the stopwords\n",
        "    def remove_stopwords(self,text):\n",
        "        text = [word.lower() for word in text.split() if word.lower() not in self.stopwords]\n",
        "        # joining the list of words with space separator\n",
        "        return \" \".join(text)\n",
        "\n",
        "    def preprocess(self):\n",
        "        self.dataset['review'] = self.dataset['review'].apply(self.remove_punctuation)\n",
        "        self.dataset['review'] = self.dataset['review'].apply(self.remove_stopwords)"
      ]
    }
  ]
}